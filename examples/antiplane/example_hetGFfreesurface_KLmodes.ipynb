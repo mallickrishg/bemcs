{
 "cells": [
  {
   "cell_type": "code",
   "execution_count": null,
   "metadata": {},
   "outputs": [],
   "source": [
    "import matplotlib.pyplot as plt\n",
    "import numpy as np\n",
    "import bemcs"
   ]
  },
  {
   "cell_type": "code",
   "execution_count": null,
   "metadata": {},
   "outputs": [],
   "source": [
    "# Elastic parameter (shear modulus)\n",
    "mu = 1.0\n",
    "Lscale = 10\n",
    "npts_layer = 101\n",
    "bimaterial_depth = -1.0\n",
    "mu_deep = 5.0\n",
    "mu_shallow = 1.0\n",
    "beta = (mu_deep - mu_shallow) / mu_shallow\n",
    "\n",
    "els_source = bemcs.initialize_els()\n",
    "els = bemcs.initialize_els()\n",
    "\n",
    "xvals = np.linspace(-Lscale, Lscale, npts_layer)\n",
    "\n",
    "# setup a fault geometry connected to topographic surface and label elements appropriately\n",
    "els_source.x1 = np.array([-0.0])\n",
    "els_source.y1 = np.array([-0.0])\n",
    "els_source.x2 = np.array([0.0])\n",
    "els_source.y2 = np.array([-1.5])\n",
    "bemcs.standardize_els_geometry(els_source, reorder=False)\n",
    "\n",
    "# horizontal layers (only for bimaterial)\n",
    "\n",
    "els.x1 = xvals[0:-1]\n",
    "els.x2 = xvals[1:]\n",
    "els.y1 = xvals[0:-1] * 0 + bimaterial_depth\n",
    "els.y2 = np.copy(els.y1)\n",
    "bemcs.standardize_els_geometry(els, reorder=False)\n",
    "bemcs.plot_els_geometry(els)"
   ]
  }
 ],
 "metadata": {
  "language_info": {
   "name": "python"
  }
 },
 "nbformat": 4,
 "nbformat_minor": 2
}
