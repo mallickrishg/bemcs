{
 "cells": [
  {
   "cell_type": "code",
   "execution_count": 5,
   "metadata": {},
   "outputs": [],
   "source": [
    "import numpy as np\n",
    "import matplotlib.pyplot as plt\n",
    "import bemcs\n",
    "import warnings\n",
    "import GF\n",
    "\n",
    "warnings.filterwarnings(\"ignore\")"
   ]
  },
  {
   "cell_type": "code",
   "execution_count": 6,
   "metadata": {},
   "outputs": [],
   "source": [
    "# Elastic parameter (shear modulus)\n",
    "mu = 1.0\n",
    "Lscale = 30\n",
    "npts_layer = 11\n",
    "\n",
    "els_source = bemcs.initialize_els()\n",
    "els_topo = bemcs.initialize_els()\n",
    "els_b = bemcs.initialize_els()\n",
    "els = bemcs.initialize_els()\n",
    "\n",
    "# setup a fault geometry (source) - in this case it is a semi-infinite strike-slip fault\n",
    "els_source.x1 = np.array([-0.0])\n",
    "els_source.y1 = np.array([-0.5])\n",
    "els_source.x2 = np.array([0])\n",
    "els_source.y2 = np.array([-1e5])\n",
    "bemcs.standardize_els_geometry(els_source, reorder=False)\n",
    "\n",
    "# topography\n",
    "xvals = np.linspace(-Lscale, Lscale, npts_layer)\n",
    "els_topo.x1 = xvals[0:-1]\n",
    "els_topo.x2 = xvals[1:]\n",
    "els_topo.y1 = np.zeros_like(els_topo.x1)\n",
    "els_topo.y2 = np.zeros_like(els_topo.x1)\n",
    "bemcs.standardize_els_geometry(els_topo, reorder=False)\n",
    "# provide connectivity matrix\n",
    "conmatrix = np.hstack(\n",
    "    (\n",
    "        np.arange(0, len(els_topo.x1) - 1).reshape(-1, 1),\n",
    "        np.arange(1, len(els_topo.x1)).reshape(-1, 1),\n",
    "    )\n",
    ")\n",
    "els_topo.conmatrix = conmatrix.astype(int)"
   ]
  },
  {
   "cell_type": "code",
   "execution_count": 7,
   "metadata": {},
   "outputs": [],
   "source": [
    "# provide layered structure in terms of number of layers, location of layers (iterface with jump in μ), and μ values\n",
    "nlayers = 5\n",
    "zlayer = np.linspace(-5, 0, nlayers + 1)[0:-1]\n",
    "mulayer = np.linspace(10, 1, nlayers + 1)\n",
    "x1 = []\n",
    "x2 = []\n",
    "y1 = []\n",
    "y2 = []\n",
    "\n",
    "# calculation the dμ/dx and dμ/dy terms as α,β\n",
    "conmatrix = np.zeros((nlayers * (npts_layer - 2), 2))\n",
    "beta = np.zeros(nlayers * (npts_layer - 2))\n",
    "for i in range(nlayers):\n",
    "    xvals = np.linspace(-Lscale, Lscale, npts_layer)\n",
    "    x1 = np.hstack([x1, xvals[0:-1]])\n",
    "    x2 = np.hstack([x2, xvals[1:]])\n",
    "    y1 = np.hstack([y1, np.ones(npts_layer - 1) * zlayer[i]])\n",
    "    y2 = np.hstack([y2, np.ones(npts_layer - 1) * zlayer[i]])\n",
    "    beta[i * (npts_layer - 2) : (npts_layer - 2) * (i + 1)] = (\n",
    "        -(mulayer[i + 1] - mulayer[i]) / mulayer[i + 1]\n",
    "    )\n",
    "    conmatrix[i * (npts_layer - 2) : (npts_layer - 2) * (i + 1), :] = i * (\n",
    "        npts_layer - 1\n",
    "    ) + np.hstack(\n",
    "        (\n",
    "            np.arange(0, npts_layer - 2).reshape(-1, 1),\n",
    "            np.arange(1, npts_layer - 1).reshape(-1, 1),\n",
    "        )\n",
    "    )\n",
    "\n",
    "els_b.x1 = x1\n",
    "els_b.x2 = x2\n",
    "els_b.y1 = y1\n",
    "els_b.y2 = y2\n",
    "bemcs.standardize_els_geometry(els_b, reorder=False)\n",
    "els_b.conmatrix = conmatrix.astype(int)"
   ]
  },
  {
   "cell_type": "code",
   "execution_count": 8,
   "metadata": {},
   "outputs": [],
   "source": [
    "# combine topo and layered structure\n",
    "els.x1 = np.hstack([els_topo.x1, els_b.x1])\n",
    "els.x2 = np.hstack([els_topo.x2, els_b.x2])\n",
    "els.y1 = np.hstack([els_topo.y1, els_b.y1])\n",
    "els.y2 = np.hstack([els_topo.y2, els_b.y2])\n",
    "bemcs.standardize_els_geometry(els, reorder=False)\n",
    "els.conmatrix = np.concatenate(\n",
    "    [els_topo.conmatrix, els_b.conmatrix + 1 + len(els_topo.conmatrix[:, 0])]\n",
    ")\n",
    "els.xc = els.x_centers[els.conmatrix[:, 0].astype(int)]\n",
    "els.yc = els.y_centers[els.conmatrix[:, 0].astype(int)]"
   ]
  },
  {
   "cell_type": "code",
   "execution_count": 11,
   "metadata": {},
   "outputs": [
    {
     "data": {
      "image/png": "[encoded data removed]",
      "text/plain": [
       "<Figure size 640x480 with 1 Axes>"
      ]
     },
     "metadata": {},
     "output_type": "display_data"
    }
   ],
   "source": [
    "# plot evaluation points of new basis functions with mesh\n",
    "plt.plot(els.xc, els.yc, \"o\")\n",
    "for i in range(len(els.x1)):\n",
    "    plt.plot([els.x1[i], els.x2[i]], [els.y1[i], els.y2[i]], \"k.-\")\n",
    "plt.show()"
   ]
  }
 ],
 "metadata": {
  "kernelspec": {
   "display_name": "bemcs",
   "language": "python",
   "name": "python3"
  },
  "language_info": {
   "codemirror_mode": {
    "name": "ipython",
    "version": 3
   },
   "file_extension": ".py",
   "mimetype": "text/x-python",
   "name": "python",
   "nbconvert_exporter": "python",
   "pygments_lexer": "ipython3",
   "version": "3.11.5"
  }
 },
 "nbformat": 4,
 "nbformat_minor": 2
}
